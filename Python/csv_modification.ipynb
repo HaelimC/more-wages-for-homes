{
 "cells": [
  {
   "cell_type": "markdown",
   "metadata": {},
   "source": [
    "pandas 설치"
   ]
  },
  {
   "cell_type": "code",
   "execution_count": 1,
   "metadata": {},
   "outputs": [
    {
     "name": "stdout",
     "output_type": "stream",
     "text": [
      "Collecting pandas\n",
      "  Downloading pandas-2.2.3-cp313-cp313-win_amd64.whl.metadata (19 kB)\n",
      "Collecting numpy>=1.26.0 (from pandas)\n",
      "  Downloading numpy-2.1.2-cp313-cp313-win_amd64.whl.metadata (59 kB)\n",
      "Requirement already satisfied: python-dateutil>=2.8.2 in c:\\users\\user\\appdata\\roaming\\python\\python313\\site-packages (from pandas) (2.9.0.post0)\n",
      "Collecting pytz>=2020.1 (from pandas)\n",
      "  Downloading pytz-2024.2-py2.py3-none-any.whl.metadata (22 kB)\n",
      "Collecting tzdata>=2022.7 (from pandas)\n",
      "  Using cached tzdata-2024.2-py2.py3-none-any.whl.metadata (1.4 kB)\n",
      "Requirement already satisfied: six>=1.5 in c:\\users\\user\\appdata\\roaming\\python\\python313\\site-packages (from python-dateutil>=2.8.2->pandas) (1.16.0)\n",
      "Downloading pandas-2.2.3-cp313-cp313-win_amd64.whl (11.5 MB)\n",
      "   ---------------------------------------- 0.0/11.5 MB ? eta -:--:--\n",
      "   ---------------------------------------- 11.5/11.5 MB 74.2 MB/s eta 0:00:00\n",
      "Downloading numpy-2.1.2-cp313-cp313-win_amd64.whl (12.6 MB)\n",
      "   ---------------------------------------- 0.0/12.6 MB ? eta -:--:--\n",
      "   ------------------------------ --------- 9.4/12.6 MB 46.1 MB/s eta 0:00:01\n",
      "   ---------------------------------------  12.3/12.6 MB 30.8 MB/s eta 0:00:01\n",
      "   ---------------------------------------- 12.6/12.6 MB 29.6 MB/s eta 0:00:00\n",
      "Downloading pytz-2024.2-py2.py3-none-any.whl (508 kB)\n",
      "Using cached tzdata-2024.2-py2.py3-none-any.whl (346 kB)\n",
      "Installing collected packages: pytz, tzdata, numpy, pandas\n",
      "Successfully installed numpy-2.1.2 pandas-2.2.3 pytz-2024.2 tzdata-2024.2\n",
      "Note: you may need to restart the kernel to use updated packages.\n"
     ]
    },
    {
     "name": "stderr",
     "output_type": "stream",
     "text": [
      "  WARNING: The scripts f2py.exe and numpy-config.exe are installed in 'c:\\Users\\user\\AppData\\Local\\Programs\\Python\\Python313\\Scripts' which is not on PATH.\n",
      "  Consider adding this directory to PATH or, if you prefer to suppress this warning, use --no-warn-script-location.\n",
      "\n",
      "[notice] A new release of pip is available: 24.2 -> 24.3.1\n",
      "[notice] To update, run: python.exe -m pip install --upgrade pip\n"
     ]
    }
   ],
   "source": [
    "\n",
    "pip install pandas"
   ]
  },
  {
   "cell_type": "markdown",
   "metadata": {},
   "source": [
    "CSV 파일 가져오기 및 필터링"
   ]
  },
  {
   "cell_type": "code",
   "execution_count": null,
   "metadata": {},
   "outputs": [],
   "source": [
    "import pandas as pd\n",
    "\n",
    "\n",
    "##### 파일 OPEN #####\n",
    "\n",
    "# 연도 범위 설정\n",
    "years = [2020, 2021, 2022, 2023, 2024]\n",
    "root = '/Users/juho/Downloads/'\n",
    "for year in years:\n",
    "    # CSV 파일 경로 설정\n",
    "    input_file = f'{root}서울특별시_전월세가_{year}.csv'  # 입력 CSV 파일 경로\n",
    "    output_file = f'{root}서울특별시_전월세가_{year}_new2.csv'  # 출력 CSV 파일 경로\n",
    "\n",
    "    # 연도에 따른 인코딩 방식 설정\n",
    "    encoding = 'EUC-KR' if year in [2022, 2024] else 'utf-8'\n",
    "\n",
    "    # CSV 파일 읽기\n",
    "    df = pd.read_csv(input_file, encoding=encoding)\n",
    "\n",
    "    # 실제 열 이름 출력 (디버깅용)\n",
    "    print(f\"{year}년 열 이름:\", [repr(col) for col in df.columns])  # 열 이름 확인\n",
    "\n",
    "    # 열 이름 수정 (공백 제거)\n",
    "    df.columns = df.columns.str.strip()  # 공백 제거\n",
    "\n",
    "    # 2024년인 경우에만 열 이름 변경\n",
    "    if year == 2024:\n",
    "        df.rename(columns={\n",
    "            '접수연도': '접수년도',\n",
    "            '전월세 구분': '전월세구분',\n",
    "            '임대면적(㎡)': '임대면적'\n",
    "        }, inplace=True)\n",
    "    \n",
    "    # 남기고 싶은 컬럼 리스트\n",
    "    columns_to_keep = [\n",
    "        '접수년도',  # 2024년만 '접수년도'\n",
    "        '자치구코드',\n",
    "        '자치구명',\n",
    "        '법정동코드',\n",
    "        '법정동명',\n",
    "        '전월세구분',\n",
    "        '보증금(만원)',\n",
    "        '임대료(만원)',\n",
    "        '임대면적',  # 2024년만 '임대면적'\n",
    "        '건축년도',\n",
    "        '건물용도'\n",
    "    ]\n",
    "\n",
    "\n",
    "    ##### 필터링 부분 #####\n",
    "\n",
    "    # 열 이름이 존재하는지 확인하고 필터링\n",
    "    missing_columns = [col for col in columns_to_keep if col not in df.columns]\n",
    "    if missing_columns:\n",
    "        print(f\"{year}년: 다음 열이 데이터프레임에 없습니다: {missing_columns}\")\n",
    "    else:\n",
    "        # 원하는 컬럼만 남기기\n",
    "        df_filtered = df[columns_to_keep]\n",
    "        # 결과를 새로운 CSV 파일로 저장 (UTF-8-SIG 인코딩 사용)\n",
    "        df_filtered.to_csv(output_file, index=False, encoding='utf-8-sig')\n",
    "        print(f\"{year}년 특정 컬럼만 남기고 CSV 파일이 저장되었습니다.\")\n",
    "        print(df_filtered.head())\n",
    "\n"
   ]
  }
 ],
 "metadata": {
  "kernelspec": {
   "display_name": "Python 3",
   "language": "python",
   "name": "python3"
  },
  "language_info": {
   "codemirror_mode": {
    "name": "ipython",
    "version": 3
   },
   "file_extension": ".py",
   "mimetype": "text/x-python",
   "name": "python",
   "nbconvert_exporter": "python",
   "pygments_lexer": "ipython3",
   "version": "3.13.0"
  }
 },
 "nbformat": 4,
 "nbformat_minor": 2
}
